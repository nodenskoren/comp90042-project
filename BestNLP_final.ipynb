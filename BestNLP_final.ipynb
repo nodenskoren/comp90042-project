{
 "cells": [
  {
   "cell_type": "code",
   "execution_count": 1,
   "metadata": {
    "colab": {
     "base_uri": "https://localhost:8080/",
     "height": 185
    },
    "colab_type": "code",
    "id": "5uz-E8mtZM6a",
    "outputId": "e760e518-46e3-47d3-a5a8-3036835f810c"
   },
   "outputs": [
    {
     "name": "stderr",
     "output_type": "stream",
     "text": [
      "Using TensorFlow backend.\n"
     ]
    },
    {
     "name": "stdout",
     "output_type": "stream",
     "text": [
      "Collecting keras-self-attention\n",
      "  Downloading https://files.pythonhosted.org/packages/44/3e/eb1a7c7545eede073ceda2f5d78442b6cad33b5b750d7f0742866907c34b/keras-self-attention-0.42.0.tar.gz\n",
      "Requirement already satisfied: numpy in c:\\users\\noden\\anaconda3\\lib\\site-packages (from keras-self-attention) (1.16.4)\n",
      "Requirement already satisfied: Keras in c:\\users\\noden\\anaconda3\\lib\\site-packages (from keras-self-attention) (2.3.1)\n",
      "Requirement already satisfied: h5py in c:\\users\\noden\\anaconda3\\lib\\site-packages (from Keras->keras-self-attention) (2.9.0)\n",
      "Requirement already satisfied: six>=1.9.0 in c:\\users\\noden\\anaconda3\\lib\\site-packages (from Keras->keras-self-attention) (1.12.0)\n",
      "Requirement already satisfied: keras-preprocessing>=1.0.5 in c:\\users\\noden\\anaconda3\\lib\\site-packages (from Keras->keras-self-attention) (1.1.0)\n",
      "Requirement already satisfied: keras-applications>=1.0.6 in c:\\users\\noden\\anaconda3\\lib\\site-packages (from Keras->keras-self-attention) (1.0.8)\n",
      "Requirement already satisfied: scipy>=0.14 in c:\\users\\noden\\anaconda3\\lib\\site-packages (from Keras->keras-self-attention) (1.2.1)\n",
      "Requirement already satisfied: pyyaml in c:\\users\\noden\\anaconda3\\lib\\site-packages (from Keras->keras-self-attention) (5.1.1)\n",
      "Building wheels for collected packages: keras-self-attention\n",
      "  Building wheel for keras-self-attention (setup.py): started\n",
      "  Building wheel for keras-self-attention (setup.py): finished with status 'done'\n",
      "  Stored in directory: C:\\Users\\noden\\AppData\\Local\\pip\\Cache\\wheels\\7b\\05\\a0\\99c0cf60d383f0494e10eca2b238ea98faca9a1fe03cac2894\n",
      "Successfully built keras-self-attention\n",
      "Installing collected packages: keras-self-attention\n",
      "Successfully installed keras-self-attention-0.42.0\n"
     ]
    }
   ],
   "source": [
    "from __future__ import print_function, division\n",
    "from builtins import range\n",
    "# Note: you may need to update your version of future\n",
    "# sudo pip install -U future\n",
    "\n",
    "import os\n",
    "import sys\n",
    "import numpy as np\n",
    "import pandas as pd\n",
    "import matplotlib.pyplot as plt\n",
    "import h5py\n",
    "from keras.preprocessing.text import Tokenizer\n",
    "from keras.preprocessing.sequence import pad_sequences\n",
    "from keras.layers import Dense, Input, GlobalMaxPooling1D, GlobalMaxPool1D, merge\n",
    "from keras.layers import LSTM, Bidirectional, MaxPooling1D, Embedding, Dropout, Flatten, CuDNNLSTM, Conv1D, BatchNormalization\n",
    "from keras.models import Model, load_model\n",
    "from sklearn.metrics import roc_auc_score\n",
    "from sklearn.utils import shuffle\n",
    "from keras.optimizers import Adam\n",
    "# from google.colab import drive\n",
    "from keras.callbacks import ModelCheckpoint\n",
    "!pip install keras-self-attention\n",
    "\n",
    "import keras\n",
    "from keras_self_attention import SeqSelfAttention\n",
    "# drive.mount('/content/gdrive')"
   ]
  },
  {
   "cell_type": "code",
   "execution_count": 33,
   "metadata": {},
   "outputs": [
    {
     "name": "stderr",
     "output_type": "stream",
     "text": [
      "'wget' is not recognized as an internal or external command,\n",
      "operable program or batch file.\n",
      "'unzip' is not recognized as an internal or external command,\n",
      "operable program or batch file.\n",
      "'ls' is not recognized as an internal or external command,\n",
      "operable program or batch file.\n",
      "'pwd' is not recognized as an internal or external command,\n",
      "operable program or batch file.\n"
     ]
    }
   ],
   "source": [
    "!wget http://nlp.stanford.edu/data/glove.42B.300d.zip\n",
    "!unzip glove*.zip\n",
    "!ls\n",
    "!pwd"
   ]
  },
  {
   "cell_type": "code",
   "execution_count": 2,
   "metadata": {
    "colab": {},
    "colab_type": "code",
    "id": "WCo-JDl9qKbe"
   },
   "outputs": [],
   "source": [
    "MAX_SEQUENCE_LENGTH = 1200\n",
    "MAX_VOCAB_SIZE = 100000\n",
    "EMBEDDING_DIM = 300\n",
    "VALIDATION_SPLIT = 0.1\n",
    "BATCH_SIZE = 128\n",
    "EPOCHS = 80"
   ]
  },
  {
   "cell_type": "code",
   "execution_count": 5,
   "metadata": {
    "colab": {
     "base_uri": "https://localhost:8080/",
     "height": 34
    },
    "colab_type": "code",
    "id": "daDzdzMndll3",
    "outputId": "4ad9e7be-decd-49b7-91c1-a772830181b4"
   },
   "outputs": [
    {
     "name": "stdout",
     "output_type": "stream",
     "text": [
      "3974\n"
     ]
    }
   ],
   "source": [
    "import json\n",
    "import requests\n",
    "import os\n",
    "from pathlib import Path\n",
    "\n",
    "data_dir = \"project-files\"\n",
    "\n",
    "def get_tweet_text_from_json(file_path):\n",
    "    with open(file_path) as json_file:\n",
    "        data = json.load(json_file)\n",
    "        return data\n",
    "\n",
    "def get_events(event_dir):\n",
    "    event_list = []\n",
    "    text_list = []\n",
    "    label_list = []\n",
    "\n",
    "    data = get_tweet_text_from_json(\"train.json\")\n",
    "    for k, v in data.items():\n",
    "        text_list.append(v[\"text\"])\n",
    "        label_list.append(v[\"label\"])\n",
    "        \n",
    "    data1 = get_tweet_text_from_json(\"train_data.json\")\n",
    "    for i in range(len(data1)):\n",
    "        if i < 1092:\n",
    "            text_list.append(data1[i])\n",
    "            label_list.append(1)\n",
    "        else:\n",
    "            text_list.append(data1[i])\n",
    "            label_list.append(0)          \n",
    "\n",
    "    return text_list, label_list\n",
    "\n",
    "test = []\n",
    "test_data = get_tweet_text_from_json(\"test-unlabelled.json\")\n",
    "for k, v in test_data.items():\n",
    "    test.append(v[\"text\"])\n",
    "\n",
    "dev = []\n",
    "dev_targets = []\n",
    "data2 = get_tweet_text_from_json(\"dev.json\")\n",
    "for k, v in data2.items():\n",
    "    dev.append(v[\"text\"])\n",
    "    dev_targets.append(v[\"label\"])\n",
    "\n",
    "text_list, label_list = get_events(data_dir)\n",
    "print(len(text_list))"
   ]
  },
  {
   "cell_type": "code",
   "execution_count": 6,
   "metadata": {
    "colab": {
     "base_uri": "https://localhost:8080/",
     "height": 34
    },
    "colab_type": "code",
    "id": "BdsadvgUMeBs",
    "outputId": "afd409af-854b-45dc-bcda-c3d2f7f8a0f6"
   },
   "outputs": [
    {
     "name": "stdout",
     "output_type": "stream",
     "text": [
      "100\n"
     ]
    }
   ],
   "source": [
    "filter_ = []\n",
    "for i in range(len(test)):\n",
    "    if 'climate' in test[i] or 'Climate Change' in test[i] or 'Earth Hour' in test[i] or 'Energy Production' in test[i] \\\n",
    "    or \"Global Warming\" in test[i] or \"CO2\" in test[i] or \"greenhouse gas emission\" in test[i] or \"fossil fuel\" in test[i] \\\n",
    "    or \"ipcc\" in test[i] or \"indc\" in test[i] or \"unfccc\" in test[i] or \"sea-level\" in test[i]:\n",
    "        if 'economic climate' not in test[i]:\n",
    "            filter_.append(1)\n",
    "        else:\n",
    "            filter_.append(0)\n",
    "    else:\n",
    "        filter_.append(0)\n",
    "\n",
    "filter_2 = []\n",
    "for i in range(len(dev)):\n",
    "    if 'climate' in dev[i] or 'Climate Change' in dev[i] or 'Earth Hour' in dev[i] or 'Energy Production' in dev[i] \\\n",
    "    or \"Global Warming\" in dev[i] or \"CO2\" in dev[i] or \"greenhouse gas emission\" in dev[i] or \"fossil fuel\" in dev[i] \\\n",
    "    or \"ipcc\" in dev[i] or \"indc\" in dev[i] or \"unfccc\" in dev[i] or \"sea-level\" in dev[i]:\n",
    "        if 'economic climate' not in dev[i]:\n",
    "            filter_2.append(1)\n",
    "        else:\n",
    "            filter_2.append(0)\n",
    "    else:\n",
    "        filter_2.append(0)\n",
    "print(len(filter_2))"
   ]
  },
  {
   "cell_type": "code",
   "execution_count": 9,
   "metadata": {
    "colab": {
     "base_uri": "https://localhost:8080/",
     "height": 50
    },
    "colab_type": "code",
    "id": "xDyxHDTQf5op",
    "outputId": "e5fc086b-247a-4298-bbc2-c9c502362bcd"
   },
   "outputs": [
    {
     "name": "stdout",
     "output_type": "stream",
     "text": [
      "Loading word vectors...\n",
      "Found 1917494 word vectors.\n"
     ]
    }
   ],
   "source": [
    "print('Loading word vectors...')\n",
    "word2vec = {}\n",
    "with open(\"glove.42B.300d.txt\", encoding=\"utf8\") as f:\n",
    "    # is just a space-separated text file in the format:\n",
    "    # word vec[0] vec[1] vec[2] ...\n",
    "    for line in f:\n",
    "        values = line.split()\n",
    "        word = values[0]\n",
    "        vec = np.asarray(values[1:], dtype='float32')\n",
    "        word2vec[word] = vec\n",
    "print('Found %s word vectors.' % len(word2vec))"
   ]
  },
  {
   "cell_type": "code",
   "execution_count": 10,
   "metadata": {
    "colab": {
     "base_uri": "https://localhost:8080/",
     "height": 121
    },
    "colab_type": "code",
    "id": "UkharfAIe7xC",
    "outputId": "0c0b1e9e-9ed2-492f-cb02-4447cb968b43"
   },
   "outputs": [
    {
     "name": "stdout",
     "output_type": "stream",
     "text": [
      "[1, 1666, 956, 1470, 7, 6, 13340, 2, 9, 1861, 3, 307, 4, 1, 2046, 27, 133, 3, 979, 92, 54, 822, 1692, 16, 943, 223, 8478, 17, 9, 20, 1, 269, 4, 1855, 893, 2643, 560, 3, 18, 12482, 1, 2517, 4, 2327, 787, 265, 89, 15, 19, 13206, 2675, 5624, 87, 435, 86, 133, 3, 18, 1115, 35, 79, 3, 234, 1, 4643, 430, 1692, 15, 27, 4251, 16, 19, 225, 1, 467, 306, 1107, 727, 11889, 27, 14, 5, 247, 6, 366, 4, 184, 225, 5, 2161, 17, 1, 391, 27, 540, 1610, 6, 561, 3, 1, 2674, 893, 11, 1692, 223, 18, 11, 21385, 184, 322, 4, 570, 4, 4281, 19, 1310, 982, 19, 26, 1, 9705, 3605, 8, 12097, 1, 309, 371, 3, 1, 32, 672, 225, 50, 26, 7267, 1, 467, 306, 3058, 6278, 22, 8, 82, 4, 1485, 125, 1124, 88, 79, 97, 15503, 8828, 4, 969, 26, 1011, 10, 1656, 19, 7, 97, 697, 4, 57, 30, 639, 57, 97, 29, 24858, 17, 9, 20, 30, 234, 6, 4643, 430, 1692, 1, 586, 2, 9, 20, 8, 7, 1261, 32, 196, 240, 13, 24, 23, 1410, 463, 863, 1, 1666, 956, 1470, 7, 6, 13340, 2, 9, 1861, 3, 307, 4, 1, 2046, 27, 133, 3, 979, 92, 54, 822, 45, 219, 366, 45, 3, 305, 17, 62, 27, 209, 30, 18, 1, 3782, 284, 2, 9, 20, 27, 209, 8, 1458, 27, 766, 19, 835, 27, 30, 44, 18, 697, 285, 4, 1, 555, 27, 185, 5, 1756, 1, 835, 1, 697, 13, 30, 18, 88, 15, 1666, 956, 1389, 87, 3, 484, 86, 3, 974, 787, 5, 1, 276, 273, 1072, 9, 20, 1389, 196, 86, 3, 4470, 6, 121, 32, 1472, 1, 3432, 2, 9, 196, 24, 1063, 2449, 3, 32, 184, 455, 119, 1, 160, 228, 4, 223, 418, 3, 8951, 1, 592, 1515, 435, 127, 202, 1023, 1515, 8, 234, 1, 4643, 430, 1692, 5, 322, 30, 346, 3, 3137, 1, 121, 2, 1, 270, 259, 27, 223, 1083, 76, 3135, 3, 1, 121, 84, 23, 4454, 5, 109, 8, 446, 3, 2440, 1678, 3280, 335, 48, 4, 181, 9, 2046, 203, 1, 1569, 3, 54, 184, 129, 4, 691, 8332, 12049, 15, 27, 14, 16, 54, 1665, 3, 838, 1, 1204, 5, 1692, 3326, 27, 540, 400, 3286, 113, 17, 102, 1678, 3280, 1246, 9, 380, 1632, 5, 101, 1505, 30, 1474, 1, 373, 4801, 10, 184, 322, 4, 570, 11, 8, 1252, 988, 33, 103, 18, 10765, 1, 7311, 124, 2762, 5, 9, 2762, 5, 322, 2718, 19, 5, 2341, 10, 1, 5463, 5, 350, 10, 320, 33, 529, 2071, 10, 303, 960, 1632, 42, 103, 18, 6, 7716, 2, 83, 3326, 10, 1692, 372, 47, 4, 46, 843, 822, 29, 1003, 986, 4, 1792, 2044, 1465, 2262, 115, 4, 1092, 919, 5, 375, 52, 2227, 30, 23, 1462, 46, 111, 936, 104, 5, 156, 28, 30, 10110, 10, 289, 47, 4, 1057, 42, 40, 60, 2167, 1398, 4, 159, 144, 14, 1, 322, 4, 570, 4, 373, 472, 10, 3326, 16512, 14, 1063, 569, 19, 73, 51, 65, 6, 10120, 2, 10861, 55, 410, 1337, 27853, 12, 54, 23362, 17, 501, 1035, 4, 1470, 33, 286, 403, 5820, 11, 9, 2766, 592, 10, 322, 1, 85, 431, 320, 26, 5291, 3795, 6, 1983, 548, 682, 3, 472, 2108, 22, 1, 1342, 2, 59, 592, 720, 94, 1, 3839, 3, 1745, 30, 18, 622, 5291, 9065, 55, 87, 12342, 2, 2725, 1943, 70, 249, 4782, 4346, 30, 938, 15, 1295, 396, 118, 1, 2804, 68, 139, 1926, 45, 2669, 87, 25475, 45, 1088, 1, 215, 162, 15, 16512, 14, 86, 9893, 9, 20, 15, 1706, 403, 1186, 57, 103, 435, 15, 1706, 184, 1186, 23, 333, 10, 1692, 27, 209, 159, 102, 1632, 53, 18, 148, 33, 14, 23, 8506, 397, 5121, 5, 13869, 4500, 497, 3922, 10, 6, 298, 48, 270, 259, 34, 3950, 20684, 172, 4500, 774, 11, 1, 322, 2303, 9207, 676, 298, 41, 1055, 34, 108, 3924, 7596, 124, 12, 9, 1488, 11, 1553, 25476, 676, 121, 34, 4550, 5, 1, 929, 6214, 298, 48, 497, 3922, 10, 156, 27, 14, 23, 375, 11, 1770, 219, 11, 9, 2046, 31, 1619, 1535, 332, 90, 18, 6, 759, 811, 3326, 592, 154, 54, 32585, 47, 300, 12, 86, 1, 365, 4, 139, 435, 21, 6, 97, 1977, 6337, 2, 62, 27, 133, 10, 1656, 52842, 3546, 11, 1, 172, 7502, 365, 46, 402, 1759, 83, 3398, 10, 364, 116, 836, 4, 8316, 32134, 19, 17, 6, 3326, 3398, 10, 29, 289, 47, 4, 13130, 1057, 2, 44, 5927, 219, 2014, 6173, 3704, 4, 836, 944, 10, 54, 207, 1401, 4, 592, 5, 1815, 2648, 47, 1425, 40, 45, 2809, 4, 21113, 45, 104, 54, 259, 1023, 23, 88, 10, 1, 322, 4, 570, 5, 19, 775, 988, 28, 5, 1, 3501, 1338, 3, 104, 70, 2251, 10, 322, 102, 15, 12977, 843, 255, 1, 304, 45, 42, 3326, 90, 63, 6197, 5, 1, 7494, 2, 54, 501, 4, 1035, 260, 1619, 494, 10, 759, 811, 592, 7, 54, 245, 775, 1857, 2663, 53, 18, 1815, 2044, 12, 7460, 917, 4, 15233, 1596, 944, 114, 811, 2046, 3, 501, 46, 414, 2, 2379, 10, 981, 53, 18, 1082, 173, 862, 41, 4, 685, 41, 1596, 45, 17, 41, 2590, 16, 76, 1121, 4974, 348, 3, 18, 1095, 1164, 2, 1204, 2, 904, 55, 1, 643, 485, 76, 845, 4, 414, 2, 322, 4, 570, 53, 18, 6427, 86, 17, 6, 301, 83, 234, 1987, 981, 11, 37, 245, 4, 765, 789, 6870, 5, 76, 293, 2, 5384, 19, 3798, 3167, 73, 299, 899, 1005, 13, 7, 23, 6, 4489, 1, 803, 24, 264, 38, 59, 1692, 3326, 30, 2409, 5, 9, 10, 322, 4, 570, 27, 103, 242, 3549, 52843, 26, 676, 8118, 10, 1, 231, 7, 6, 998, 1104, 22, 1, 1694, 631, 112, 281, 4, 998, 4153, 22, 20218, 6, 5946, 9, 592, 4, 3464, 2328]\n",
      "Found 68563 unique tokens.\n",
      "Filling pre-trained embeddings...\n",
      "number of words covered by the dictionary:  43245\n",
      "total number of distinct words:  68563\n"
     ]
    }
   ],
   "source": [
    "sentences, targets = text_list, label_list\n",
    "tokenizer = Tokenizer(num_words=MAX_VOCAB_SIZE)\n",
    "tokenizer.fit_on_texts(sentences)\n",
    "sequences = tokenizer.texts_to_sequences(sentences)\n",
    "sequences, targets = shuffle(sequences, targets)\n",
    "print(sequences[0])\n",
    "\n",
    "word2idx = tokenizer.word_index\n",
    "print('Found %s unique tokens.' % len(word2idx))\n",
    "\n",
    "# pad sequences so that we get a N x T matrix\n",
    "data = pad_sequences(sequences, maxlen=MAX_SEQUENCE_LENGTH)\n",
    "#print('Shape of data tensor:', data.shape)\n",
    "\n",
    "# prepare embedding matrix\n",
    "j = 0\n",
    "print('Filling pre-trained embeddings...')\n",
    "num_words = min(MAX_VOCAB_SIZE, len(word2idx) + 1)\n",
    "\n",
    "embedding_matrix = np.zeros((num_words, EMBEDDING_DIM))\n",
    "for word, i in word2idx.items():\n",
    "    if i < MAX_VOCAB_SIZE:\n",
    "        embedding_vector = word2vec.get(word)\n",
    "        if embedding_vector is not None:\n",
    "            # words not found in embedding index will be all zeros.\n",
    "            embedding_matrix[i] = embedding_vector\n",
    "            j += 1\n",
    "\n",
    "print(\"number of words covered by the dictionary: \", j)\n",
    "print(\"total number of distinct words: \", len(word2idx))"
   ]
  },
  {
   "cell_type": "code",
   "execution_count": 11,
   "metadata": {
    "colab": {
     "base_uri": "https://localhost:8080/",
     "height": 34
    },
    "colab_type": "code",
    "id": "SQ0_iD-s2cua",
    "outputId": "489c3a94-b4ab-4f8a-b9b9-53ad400f7dea"
   },
   "outputs": [
    {
     "name": "stdout",
     "output_type": "stream",
     "text": [
      "3974 4074\n"
     ]
    }
   ],
   "source": [
    "#data = pad_sequences(sequences, maxlen=MAX_SEQUENCE_LENGTH)\n",
    "dev_sequences = tokenizer.texts_to_sequences(dev)\n",
    "#For test set, comment out the above section and uncomment the line below\n",
    "test_sequences = tokenizer.texts_to_sequences(test)\n",
    "targets = targets + dev_targets\n",
    "new_sequences = sequences + dev_sequences\n",
    "new_data = pad_sequences(new_sequences, maxlen=MAX_SEQUENCE_LENGTH)\n",
    "print(len(sequences), len(new_sequences))"
   ]
  },
  {
   "cell_type": "code",
   "execution_count": 27,
   "metadata": {
    "colab": {
     "base_uri": "https://localhost:8080/",
     "height": 34
    },
    "colab_type": "code",
    "id": "2u8423bDfz0s",
    "outputId": "03b6af7e-c5d3-43df-cc11-5b66596a0828"
   },
   "outputs": [
    {
     "name": "stdout",
     "output_type": "stream",
     "text": [
      "Building model...\n"
     ]
    }
   ],
   "source": [
    "print('Building model...')\n",
    "embedding_layer = Embedding(\n",
    "  num_words,\n",
    "  EMBEDDING_DIM,\n",
    "  weights=[embedding_matrix],\n",
    "  input_length=MAX_SEQUENCE_LENGTH,\n",
    "  trainable=True\n",
    ")\n",
    "rate_drop_lstm = 0.25\n",
    "rate_drop_dense = 0.25\n",
    "num_dense = 256\n",
    "# train a 1D convnet with global maxpooling\n",
    "input_ = Input(shape=(MAX_SEQUENCE_LENGTH,))\n",
    "x = embedding_layer(input_)\n",
    "x = Conv1D(128, 5, activation='relu')(x)\n",
    "x = MaxPooling1D(2)(x)\n",
    "x = Conv1D(128, 4, activation='relu')(x)\n",
    "x = MaxPooling1D(2)(x)\n",
    "x = Conv1D(128, 3, activation='relu')(x)\n",
    "x = MaxPooling1D(2)(x)\n",
    "x = Bidirectional(LSTM(32, dropout=rate_drop_lstm, recurrent_dropout=rate_drop_lstm, return_sequences=True))(x)\n",
    "merged = SeqSelfAttention(\n",
    "    attention_type=SeqSelfAttention.ATTENTION_TYPE_MUL,\n",
    "    attention_activation=None,\n",
    "    kernel_regularizer=keras.regularizers.l2(1e-6),\n",
    "    use_attention_bias=False,\n",
    "    name='Attention')(x)\n",
    "merged = Flatten()(merged)\n",
    "x = Dense(1, activation='sigmoid')(merged)\n",
    "model = Model(inputs=input_, outputs=x)\n",
    "\n",
    "model.compile(\n",
    "  loss='binary_crossentropy',\n",
    "  optimizer='adam',\n",
    "  metrics=['accuracy']\n",
    ")\n"
   ]
  },
  {
   "cell_type": "code",
   "execution_count": null,
   "metadata": {
    "colab": {
     "base_uri": "https://localhost:8080/",
     "height": 134
    },
    "colab_type": "code",
    "id": "LzPfeH_JS7Co",
    "outputId": "5c8422a1-dcc9-41eb-ee8a-0d5a17f45c66"
   },
   "outputs": [],
   "source": [
    "# keep repeating this cell and the above cell until a desired result is reached\n",
    "r = model.fit(\n",
    "  np.array(new_data),\n",
    "  targets,\n",
    "  batch_size=128,\n",
    "  epochs=4,\n",
    "  validation_split=100/4074,\n",
    "  #callbacks=callbacks_list\n",
    ")\n",
    "\n",
    "p = model.predict(pad_sequences(dev_sequences, maxlen=MAX_SEQUENCE_LENGTH))\n",
    "\n",
    "test_dict = {}\n",
    "true_positive = 0\n",
    "false_positive = 0\n",
    "false_negative = 0\n",
    "for i in range(len(p)):\n",
    "    text = \"test-\" + str(i)\n",
    "    if (p[i][0] * filter_2[i]) > 0.5:\n",
    "        if (dev_targets[i] ==  1):\n",
    "            true_positive += 1\n",
    "        if (dev_targets[i] ==  0):\n",
    "            false_positive +=1\n",
    "        test_dict[text] = {\"label\": 1}\n",
    "    else:\n",
    "        if (dev_targets[i] ==  1):\n",
    "            false_negative += 1\n",
    "        test_dict[text] = {\"label\": 0}\n",
    "precision = true_positive/(true_positive+false_positive)\n",
    "recall = true_positive/(true_positive+false_negative)\n",
    "print(true_positive, false_positive, false_negative)\n",
    "print(\"F1-score = \", 2 * precision * recall / (precision + recall))\n",
    "print(\"precision = \", precision)\n",
    "print(\"recall = \", recall)"
   ]
  },
  {
   "cell_type": "code",
   "execution_count": 32,
   "metadata": {
    "colab": {
     "base_uri": "https://localhost:8080/",
     "height": 54
    },
    "colab_type": "code",
    "id": "a5slAPTqWewL",
    "outputId": "7d3795a9-204b-4afc-8bf9-6c426b605ae6"
   },
   "outputs": [
    {
     "name": "stdout",
     "output_type": "stream",
     "text": [
      "{'test-0': {'label': 0}, 'test-1': {'label': 0}, 'test-2': {'label': 0}, 'test-3': {'label': 0}, 'test-4': {'label': 0}, 'test-5': {'label': 0}, 'test-6': {'label': 0}, 'test-7': {'label': 0}, 'test-8': {'label': 0}, 'test-9': {'label': 0}, 'test-10': {'label': 0}, 'test-11': {'label': 0}, 'test-12': {'label': 0}, 'test-13': {'label': 0}, 'test-14': {'label': 0}, 'test-15': {'label': 0}, 'test-16': {'label': 0}, 'test-17': {'label': 0}, 'test-18': {'label': 0}, 'test-19': {'label': 0}, 'test-20': {'label': 0}, 'test-21': {'label': 0}, 'test-22': {'label': 0}, 'test-23': {'label': 0}, 'test-24': {'label': 0}, 'test-25': {'label': 0}, 'test-26': {'label': 0}, 'test-27': {'label': 0}, 'test-28': {'label': 0}, 'test-29': {'label': 0}, 'test-30': {'label': 0}, 'test-31': {'label': 0}, 'test-32': {'label': 0}, 'test-33': {'label': 0}, 'test-34': {'label': 0}, 'test-35': {'label': 0}, 'test-36': {'label': 0}, 'test-37': {'label': 0}, 'test-38': {'label': 0}, 'test-39': {'label': 0}, 'test-40': {'label': 0}, 'test-41': {'label': 0}, 'test-42': {'label': 0}, 'test-43': {'label': 0}, 'test-44': {'label': 0}, 'test-45': {'label': 0}, 'test-46': {'label': 0}, 'test-47': {'label': 0}, 'test-48': {'label': 0}, 'test-49': {'label': 0}, 'test-50': {'label': 0}, 'test-51': {'label': 0}, 'test-52': {'label': 0}, 'test-53': {'label': 0}, 'test-54': {'label': 0}, 'test-55': {'label': 0}, 'test-56': {'label': 0}, 'test-57': {'label': 0}, 'test-58': {'label': 0}, 'test-59': {'label': 0}, 'test-60': {'label': 0}, 'test-61': {'label': 0}, 'test-62': {'label': 0}, 'test-63': {'label': 0}, 'test-64': {'label': 0}, 'test-65': {'label': 0}, 'test-66': {'label': 0}, 'test-67': {'label': 0}, 'test-68': {'label': 0}, 'test-69': {'label': 0}, 'test-70': {'label': 0}, 'test-71': {'label': 0}, 'test-72': {'label': 1}, 'test-73': {'label': 0}, 'test-74': {'label': 0}, 'test-75': {'label': 0}, 'test-76': {'label': 0}, 'test-77': {'label': 0}, 'test-78': {'label': 0}, 'test-79': {'label': 0}, 'test-80': {'label': 0}, 'test-81': {'label': 0}, 'test-82': {'label': 0}, 'test-83': {'label': 0}, 'test-84': {'label': 0}, 'test-85': {'label': 0}, 'test-86': {'label': 0}, 'test-87': {'label': 0}, 'test-88': {'label': 0}, 'test-89': {'label': 0}, 'test-90': {'label': 0}, 'test-91': {'label': 0}, 'test-92': {'label': 0}, 'test-93': {'label': 0}, 'test-94': {'label': 0}, 'test-95': {'label': 0}, 'test-96': {'label': 0}, 'test-97': {'label': 0}, 'test-98': {'label': 0}, 'test-99': {'label': 0}, 'test-100': {'label': 0}, 'test-101': {'label': 0}, 'test-102': {'label': 0}, 'test-103': {'label': 0}, 'test-104': {'label': 1}, 'test-105': {'label': 0}, 'test-106': {'label': 0}, 'test-107': {'label': 0}, 'test-108': {'label': 0}, 'test-109': {'label': 0}, 'test-110': {'label': 0}, 'test-111': {'label': 0}, 'test-112': {'label': 0}, 'test-113': {'label': 0}, 'test-114': {'label': 0}, 'test-115': {'label': 0}, 'test-116': {'label': 0}, 'test-117': {'label': 0}, 'test-118': {'label': 0}, 'test-119': {'label': 0}, 'test-120': {'label': 0}, 'test-121': {'label': 0}, 'test-122': {'label': 0}, 'test-123': {'label': 0}, 'test-124': {'label': 0}, 'test-125': {'label': 0}, 'test-126': {'label': 0}, 'test-127': {'label': 0}, 'test-128': {'label': 0}, 'test-129': {'label': 0}, 'test-130': {'label': 0}, 'test-131': {'label': 0}, 'test-132': {'label': 1}, 'test-133': {'label': 0}, 'test-134': {'label': 0}, 'test-135': {'label': 0}, 'test-136': {'label': 0}, 'test-137': {'label': 0}, 'test-138': {'label': 0}, 'test-139': {'label': 0}, 'test-140': {'label': 0}, 'test-141': {'label': 0}, 'test-142': {'label': 0}, 'test-143': {'label': 1}, 'test-144': {'label': 0}, 'test-145': {'label': 0}, 'test-146': {'label': 0}, 'test-147': {'label': 0}, 'test-148': {'label': 0}, 'test-149': {'label': 0}, 'test-150': {'label': 0}, 'test-151': {'label': 0}, 'test-152': {'label': 0}, 'test-153': {'label': 1}, 'test-154': {'label': 0}, 'test-155': {'label': 0}, 'test-156': {'label': 1}, 'test-157': {'label': 0}, 'test-158': {'label': 0}, 'test-159': {'label': 0}, 'test-160': {'label': 0}, 'test-161': {'label': 0}, 'test-162': {'label': 0}, 'test-163': {'label': 0}, 'test-164': {'label': 0}, 'test-165': {'label': 0}, 'test-166': {'label': 0}, 'test-167': {'label': 0}, 'test-168': {'label': 0}, 'test-169': {'label': 0}, 'test-170': {'label': 0}, 'test-171': {'label': 0}, 'test-172': {'label': 0}, 'test-173': {'label': 0}, 'test-174': {'label': 0}, 'test-175': {'label': 0}, 'test-176': {'label': 0}, 'test-177': {'label': 0}, 'test-178': {'label': 0}, 'test-179': {'label': 0}, 'test-180': {'label': 1}, 'test-181': {'label': 0}, 'test-182': {'label': 0}, 'test-183': {'label': 0}, 'test-184': {'label': 0}, 'test-185': {'label': 0}, 'test-186': {'label': 0}, 'test-187': {'label': 0}, 'test-188': {'label': 0}, 'test-189': {'label': 0}, 'test-190': {'label': 1}, 'test-191': {'label': 0}, 'test-192': {'label': 0}, 'test-193': {'label': 0}, 'test-194': {'label': 0}, 'test-195': {'label': 0}, 'test-196': {'label': 0}, 'test-197': {'label': 0}, 'test-198': {'label': 0}, 'test-199': {'label': 0}, 'test-200': {'label': 0}, 'test-201': {'label': 0}, 'test-202': {'label': 0}, 'test-203': {'label': 1}, 'test-204': {'label': 0}, 'test-205': {'label': 0}, 'test-206': {'label': 0}, 'test-207': {'label': 0}, 'test-208': {'label': 0}, 'test-209': {'label': 0}, 'test-210': {'label': 0}, 'test-211': {'label': 0}, 'test-212': {'label': 1}, 'test-213': {'label': 0}, 'test-214': {'label': 0}, 'test-215': {'label': 0}, 'test-216': {'label': 0}, 'test-217': {'label': 0}, 'test-218': {'label': 0}, 'test-219': {'label': 0}, 'test-220': {'label': 0}, 'test-221': {'label': 0}, 'test-222': {'label': 0}, 'test-223': {'label': 0}, 'test-224': {'label': 0}, 'test-225': {'label': 0}, 'test-226': {'label': 0}, 'test-227': {'label': 0}, 'test-228': {'label': 0}, 'test-229': {'label': 0}, 'test-230': {'label': 0}, 'test-231': {'label': 0}, 'test-232': {'label': 0}, 'test-233': {'label': 0}, 'test-234': {'label': 1}, 'test-235': {'label': 0}, 'test-236': {'label': 0}, 'test-237': {'label': 1}, 'test-238': {'label': 0}, 'test-239': {'label': 0}, 'test-240': {'label': 0}, 'test-241': {'label': 0}, 'test-242': {'label': 0}, 'test-243': {'label': 0}, 'test-244': {'label': 0}, 'test-245': {'label': 0}, 'test-246': {'label': 0}, 'test-247': {'label': 0}, 'test-248': {'label': 0}, 'test-249': {'label': 0}, 'test-250': {'label': 0}, 'test-251': {'label': 0}, 'test-252': {'label': 0}, 'test-253': {'label': 0}, 'test-254': {'label': 0}, 'test-255': {'label': 0}, 'test-256': {'label': 0}, 'test-257': {'label': 0}, 'test-258': {'label': 0}, 'test-259': {'label': 0}, 'test-260': {'label': 0}, 'test-261': {'label': 0}, 'test-262': {'label': 0}, 'test-263': {'label': 0}, 'test-264': {'label': 0}, 'test-265': {'label': 1}, 'test-266': {'label': 0}, 'test-267': {'label': 1}, 'test-268': {'label': 0}, 'test-269': {'label': 0}, 'test-270': {'label': 1}, 'test-271': {'label': 0}, 'test-272': {'label': 0}, 'test-273': {'label': 0}, 'test-274': {'label': 0}, 'test-275': {'label': 0}, 'test-276': {'label': 0}, 'test-277': {'label': 0}, 'test-278': {'label': 0}, 'test-279': {'label': 0}, 'test-280': {'label': 0}, 'test-281': {'label': 0}, 'test-282': {'label': 0}, 'test-283': {'label': 0}, 'test-284': {'label': 0}, 'test-285': {'label': 1}, 'test-286': {'label': 0}, 'test-287': {'label': 0}, 'test-288': {'label': 0}, 'test-289': {'label': 1}, 'test-290': {'label': 0}, 'test-291': {'label': 0}, 'test-292': {'label': 0}, 'test-293': {'label': 0}, 'test-294': {'label': 0}, 'test-295': {'label': 1}, 'test-296': {'label': 0}, 'test-297': {'label': 0}, 'test-298': {'label': 0}, 'test-299': {'label': 0}, 'test-300': {'label': 0}, 'test-301': {'label': 0}, 'test-302': {'label': 0}, 'test-303': {'label': 0}, 'test-304': {'label': 1}, 'test-305': {'label': 0}, 'test-306': {'label': 0}, 'test-307': {'label': 0}, 'test-308': {'label': 0}, 'test-309': {'label': 0}, 'test-310': {'label': 0}, 'test-311': {'label': 0}, 'test-312': {'label': 0}, 'test-313': {'label': 0}, 'test-314': {'label': 0}, 'test-315': {'label': 0}, 'test-316': {'label': 0}, 'test-317': {'label': 0}, 'test-318': {'label': 0}, 'test-319': {'label': 0}, 'test-320': {'label': 0}, 'test-321': {'label': 0}, 'test-322': {'label': 0}, 'test-323': {'label': 0}, 'test-324': {'label': 0}, 'test-325': {'label': 0}, 'test-326': {'label': 0}, 'test-327': {'label': 0}, 'test-328': {'label': 0}, 'test-329': {'label': 0}, 'test-330': {'label': 1}, 'test-331': {'label': 0}, 'test-332': {'label': 0}, 'test-333': {'label': 0}, 'test-334': {'label': 0}, 'test-335': {'label': 0}, 'test-336': {'label': 0}, 'test-337': {'label': 0}, 'test-338': {'label': 0}, 'test-339': {'label': 0}, 'test-340': {'label': 0}, 'test-341': {'label': 1}, 'test-342': {'label': 1}, 'test-343': {'label': 0}, 'test-344': {'label': 1}, 'test-345': {'label': 0}, 'test-346': {'label': 0}, 'test-347': {'label': 0}, 'test-348': {'label': 0}, 'test-349': {'label': 0}, 'test-350': {'label': 0}, 'test-351': {'label': 0}, 'test-352': {'label': 0}, 'test-353': {'label': 0}, 'test-354': {'label': 0}, 'test-355': {'label': 0}, 'test-356': {'label': 0}, 'test-357': {'label': 0}, 'test-358': {'label': 0}, 'test-359': {'label': 0}, 'test-360': {'label': 0}, 'test-361': {'label': 0}, 'test-362': {'label': 0}, 'test-363': {'label': 0}, 'test-364': {'label': 0}, 'test-365': {'label': 0}, 'test-366': {'label': 1}, 'test-367': {'label': 0}, 'test-368': {'label': 0}, 'test-369': {'label': 0}, 'test-370': {'label': 1}, 'test-371': {'label': 0}, 'test-372': {'label': 1}, 'test-373': {'label': 0}, 'test-374': {'label': 0}, 'test-375': {'label': 0}, 'test-376': {'label': 0}, 'test-377': {'label': 0}, 'test-378': {'label': 0}, 'test-379': {'label': 0}, 'test-380': {'label': 1}, 'test-381': {'label': 0}, 'test-382': {'label': 0}, 'test-383': {'label': 0}, 'test-384': {'label': 0}, 'test-385': {'label': 0}, 'test-386': {'label': 0}, 'test-387': {'label': 0}, 'test-388': {'label': 0}, 'test-389': {'label': 0}, 'test-390': {'label': 0}, 'test-391': {'label': 0}, 'test-392': {'label': 0}, 'test-393': {'label': 0}, 'test-394': {'label': 0}, 'test-395': {'label': 0}, 'test-396': {'label': 0}, 'test-397': {'label': 0}, 'test-398': {'label': 0}, 'test-399': {'label': 0}, 'test-400': {'label': 1}, 'test-401': {'label': 0}, 'test-402': {'label': 0}, 'test-403': {'label': 0}, 'test-404': {'label': 0}, 'test-405': {'label': 0}, 'test-406': {'label': 0}, 'test-407': {'label': 0}, 'test-408': {'label': 0}, 'test-409': {'label': 0}, 'test-410': {'label': 1}, 'test-411': {'label': 0}, 'test-412': {'label': 0}, 'test-413': {'label': 0}, 'test-414': {'label': 0}, 'test-415': {'label': 0}, 'test-416': {'label': 0}, 'test-417': {'label': 0}, 'test-418': {'label': 0}, 'test-419': {'label': 0}, 'test-420': {'label': 0}, 'test-421': {'label': 0}, 'test-422': {'label': 0}, 'test-423': {'label': 0}, 'test-424': {'label': 0}, 'test-425': {'label': 0}, 'test-426': {'label': 0}, 'test-427': {'label': 1}, 'test-428': {'label': 0}, 'test-429': {'label': 0}, 'test-430': {'label': 0}, 'test-431': {'label': 0}, 'test-432': {'label': 0}, 'test-433': {'label': 0}, 'test-434': {'label': 1}, 'test-435': {'label': 0}, 'test-436': {'label': 0}, 'test-437': {'label': 0}, 'test-438': {'label': 0}, 'test-439': {'label': 0}, 'test-440': {'label': 0}, 'test-441': {'label': 0}, 'test-442': {'label': 0}, 'test-443': {'label': 0}, 'test-444': {'label': 0}, 'test-445': {'label': 0}, 'test-446': {'label': 0}, 'test-447': {'label': 0}, 'test-448': {'label': 0}, 'test-449': {'label': 0}, 'test-450': {'label': 0}, 'test-451': {'label': 0}, 'test-452': {'label': 0}, 'test-453': {'label': 0}, 'test-454': {'label': 0}, 'test-455': {'label': 0}, 'test-456': {'label': 0}, 'test-457': {'label': 0}, 'test-458': {'label': 0}, 'test-459': {'label': 0}, 'test-460': {'label': 0}, 'test-461': {'label': 0}, 'test-462': {'label': 0}, 'test-463': {'label': 0}, 'test-464': {'label': 0}, 'test-465': {'label': 0}, 'test-466': {'label': 0}, 'test-467': {'label': 0}, 'test-468': {'label': 0}, 'test-469': {'label': 0}, 'test-470': {'label': 0}, 'test-471': {'label': 0}, 'test-472': {'label': 1}, 'test-473': {'label': 0}, 'test-474': {'label': 0}, 'test-475': {'label': 0}, 'test-476': {'label': 0}, 'test-477': {'label': 0}, 'test-478': {'label': 0}, 'test-479': {'label': 0}, 'test-480': {'label': 0}, 'test-481': {'label': 0}, 'test-482': {'label': 0}, 'test-483': {'label': 1}, 'test-484': {'label': 1}, 'test-485': {'label': 0}, 'test-486': {'label': 0}, 'test-487': {'label': 0}, 'test-488': {'label': 0}, 'test-489': {'label': 0}, 'test-490': {'label': 0}, 'test-491': {'label': 0}, 'test-492': {'label': 0}, 'test-493': {'label': 0}, 'test-494': {'label': 0}, 'test-495': {'label': 0}, 'test-496': {'label': 0}, 'test-497': {'label': 0}, 'test-498': {'label': 0}, 'test-499': {'label': 0}, 'test-500': {'label': 0}, 'test-501': {'label': 0}, 'test-502': {'label': 0}, 'test-503': {'label': 0}, 'test-504': {'label': 0}, 'test-505': {'label': 0}, 'test-506': {'label': 0}, 'test-507': {'label': 0}, 'test-508': {'label': 0}, 'test-509': {'label': 1}, 'test-510': {'label': 0}, 'test-511': {'label': 0}, 'test-512': {'label': 0}, 'test-513': {'label': 0}, 'test-514': {'label': 0}, 'test-515': {'label': 0}, 'test-516': {'label': 0}, 'test-517': {'label': 0}, 'test-518': {'label': 0}, 'test-519': {'label': 0}, 'test-520': {'label': 1}, 'test-521': {'label': 0}, 'test-522': {'label': 0}, 'test-523': {'label': 0}, 'test-524': {'label': 0}, 'test-525': {'label': 0}, 'test-526': {'label': 1}, 'test-527': {'label': 0}, 'test-528': {'label': 0}, 'test-529': {'label': 0}, 'test-530': {'label': 0}, 'test-531': {'label': 0}, 'test-532': {'label': 0}, 'test-533': {'label': 0}, 'test-534': {'label': 0}, 'test-535': {'label': 1}, 'test-536': {'label': 0}, 'test-537': {'label': 0}, 'test-538': {'label': 1}, 'test-539': {'label': 0}, 'test-540': {'label': 0}, 'test-541': {'label': 0}, 'test-542': {'label': 0}, 'test-543': {'label': 0}, 'test-544': {'label': 0}, 'test-545': {'label': 1}, 'test-546': {'label': 0}, 'test-547': {'label': 0}, 'test-548': {'label': 0}, 'test-549': {'label': 0}, 'test-550': {'label': 0}, 'test-551': {'label': 0}, 'test-552': {'label': 0}, 'test-553': {'label': 0}, 'test-554': {'label': 0}, 'test-555': {'label': 0}, 'test-556': {'label': 1}, 'test-557': {'label': 1}, 'test-558': {'label': 0}, 'test-559': {'label': 0}, 'test-560': {'label': 0}, 'test-561': {'label': 0}, 'test-562': {'label': 0}, 'test-563': {'label': 0}, 'test-564': {'label': 0}, 'test-565': {'label': 0}, 'test-566': {'label': 1}, 'test-567': {'label': 0}, 'test-568': {'label': 0}, 'test-569': {'label': 0}, 'test-570': {'label': 0}, 'test-571': {'label': 0}, 'test-572': {'label': 1}, 'test-573': {'label': 0}, 'test-574': {'label': 0}, 'test-575': {'label': 0}, 'test-576': {'label': 0}, 'test-577': {'label': 0}, 'test-578': {'label': 0}, 'test-579': {'label': 0}, 'test-580': {'label': 0}, 'test-581': {'label': 0}, 'test-582': {'label': 0}, 'test-583': {'label': 0}, 'test-584': {'label': 0}, 'test-585': {'label': 0}, 'test-586': {'label': 0}, 'test-587': {'label': 0}, 'test-588': {'label': 0}, 'test-589': {'label': 0}, 'test-590': {'label': 0}, 'test-591': {'label': 0}, 'test-592': {'label': 0}, 'test-593': {'label': 0}, 'test-594': {'label': 0}, 'test-595': {'label': 0}, 'test-596': {'label': 0}, 'test-597': {'label': 0}, 'test-598': {'label': 0}, 'test-599': {'label': 0}, 'test-600': {'label': 0}, 'test-601': {'label': 0}, 'test-602': {'label': 0}, 'test-603': {'label': 0}, 'test-604': {'label': 0}, 'test-605': {'label': 1}, 'test-606': {'label': 0}, 'test-607': {'label': 0}, 'test-608': {'label': 0}, 'test-609': {'label': 0}, 'test-610': {'label': 0}, 'test-611': {'label': 0}, 'test-612': {'label': 1}, 'test-613': {'label': 0}, 'test-614': {'label': 0}, 'test-615': {'label': 0}, 'test-616': {'label': 0}, 'test-617': {'label': 0}, 'test-618': {'label': 0}, 'test-619': {'label': 0}, 'test-620': {'label': 0}, 'test-621': {'label': 0}, 'test-622': {'label': 0}, 'test-623': {'label': 0}, 'test-624': {'label': 0}, 'test-625': {'label': 0}, 'test-626': {'label': 0}, 'test-627': {'label': 0}, 'test-628': {'label': 0}, 'test-629': {'label': 0}, 'test-630': {'label': 0}, 'test-631': {'label': 0}, 'test-632': {'label': 1}, 'test-633': {'label': 0}, 'test-634': {'label': 0}, 'test-635': {'label': 0}, 'test-636': {'label': 0}, 'test-637': {'label': 1}, 'test-638': {'label': 0}, 'test-639': {'label': 0}, 'test-640': {'label': 0}, 'test-641': {'label': 0}, 'test-642': {'label': 1}, 'test-643': {'label': 0}, 'test-644': {'label': 0}, 'test-645': {'label': 0}, 'test-646': {'label': 0}, 'test-647': {'label': 0}, 'test-648': {'label': 1}, 'test-649': {'label': 0}, 'test-650': {'label': 1}, 'test-651': {'label': 0}, 'test-652': {'label': 0}, 'test-653': {'label': 0}, 'test-654': {'label': 0}, 'test-655': {'label': 1}, 'test-656': {'label': 0}, 'test-657': {'label': 0}, 'test-658': {'label': 1}, 'test-659': {'label': 0}, 'test-660': {'label': 0}, 'test-661': {'label': 0}, 'test-662': {'label': 0}, 'test-663': {'label': 0}, 'test-664': {'label': 0}, 'test-665': {'label': 0}, 'test-666': {'label': 0}, 'test-667': {'label': 0}, 'test-668': {'label': 0}, 'test-669': {'label': 0}, 'test-670': {'label': 0}, 'test-671': {'label': 0}, 'test-672': {'label': 0}, 'test-673': {'label': 0}, 'test-674': {'label': 0}, 'test-675': {'label': 0}, 'test-676': {'label': 0}, 'test-677': {'label': 0}, 'test-678': {'label': 0}, 'test-679': {'label': 0}, 'test-680': {'label': 0}, 'test-681': {'label': 0}, 'test-682': {'label': 0}, 'test-683': {'label': 0}, 'test-684': {'label': 0}, 'test-685': {'label': 0}, 'test-686': {'label': 0}, 'test-687': {'label': 0}, 'test-688': {'label': 0}, 'test-689': {'label': 0}, 'test-690': {'label': 0}, 'test-691': {'label': 0}, 'test-692': {'label': 0}, 'test-693': {'label': 0}, 'test-694': {'label': 0}, 'test-695': {'label': 0}, 'test-696': {'label': 0}, 'test-697': {'label': 0}, 'test-698': {'label': 0}, 'test-699': {'label': 0}, 'test-700': {'label': 0}, 'test-701': {'label': 0}, 'test-702': {'label': 0}, 'test-703': {'label': 0}, 'test-704': {'label': 0}, 'test-705': {'label': 0}, 'test-706': {'label': 0}, 'test-707': {'label': 0}, 'test-708': {'label': 0}, 'test-709': {'label': 0}, 'test-710': {'label': 0}, 'test-711': {'label': 0}, 'test-712': {'label': 0}, 'test-713': {'label': 0}, 'test-714': {'label': 0}, 'test-715': {'label': 0}, 'test-716': {'label': 0}, 'test-717': {'label': 0}, 'test-718': {'label': 0}, 'test-719': {'label': 0}, 'test-720': {'label': 0}, 'test-721': {'label': 0}, 'test-722': {'label': 0}, 'test-723': {'label': 0}, 'test-724': {'label': 0}, 'test-725': {'label': 0}, 'test-726': {'label': 0}, 'test-727': {'label': 0}, 'test-728': {'label': 0}, 'test-729': {'label': 0}, 'test-730': {'label': 0}, 'test-731': {'label': 0}, 'test-732': {'label': 0}, 'test-733': {'label': 0}, 'test-734': {'label': 0}, 'test-735': {'label': 0}, 'test-736': {'label': 0}, 'test-737': {'label': 0}, 'test-738': {'label': 0}, 'test-739': {'label': 0}, 'test-740': {'label': 0}, 'test-741': {'label': 0}, 'test-742': {'label': 0}, 'test-743': {'label': 0}, 'test-744': {'label': 0}, 'test-745': {'label': 1}, 'test-746': {'label': 0}, 'test-747': {'label': 0}, 'test-748': {'label': 0}, 'test-749': {'label': 1}, 'test-750': {'label': 0}, 'test-751': {'label': 0}, 'test-752': {'label': 0}, 'test-753': {'label': 0}, 'test-754': {'label': 0}, 'test-755': {'label': 0}, 'test-756': {'label': 0}, 'test-757': {'label': 0}, 'test-758': {'label': 0}, 'test-759': {'label': 0}, 'test-760': {'label': 0}, 'test-761': {'label': 0}, 'test-762': {'label': 0}, 'test-763': {'label': 0}, 'test-764': {'label': 0}, 'test-765': {'label': 0}, 'test-766': {'label': 0}, 'test-767': {'label': 0}, 'test-768': {'label': 1}, 'test-769': {'label': 0}, 'test-770': {'label': 0}, 'test-771': {'label': 0}, 'test-772': {'label': 0}, 'test-773': {'label': 1}, 'test-774': {'label': 0}, 'test-775': {'label': 0}, 'test-776': {'label': 0}, 'test-777': {'label': 0}, 'test-778': {'label': 0}, 'test-779': {'label': 1}, 'test-780': {'label': 0}, 'test-781': {'label': 0}, 'test-782': {'label': 0}, 'test-783': {'label': 0}, 'test-784': {'label': 0}, 'test-785': {'label': 0}, 'test-786': {'label': 0}, 'test-787': {'label': 0}, 'test-788': {'label': 0}, 'test-789': {'label': 0}, 'test-790': {'label': 0}, 'test-791': {'label': 0}, 'test-792': {'label': 0}, 'test-793': {'label': 0}, 'test-794': {'label': 0}, 'test-795': {'label': 0}, 'test-796': {'label': 0}, 'test-797': {'label': 0}, 'test-798': {'label': 0}, 'test-799': {'label': 0}, 'test-800': {'label': 0}, 'test-801': {'label': 0}, 'test-802': {'label': 0}, 'test-803': {'label': 0}, 'test-804': {'label': 0}, 'test-805': {'label': 1}, 'test-806': {'label': 1}, 'test-807': {'label': 1}, 'test-808': {'label': 1}, 'test-809': {'label': 0}, 'test-810': {'label': 0}, 'test-811': {'label': 0}, 'test-812': {'label': 0}, 'test-813': {'label': 0}, 'test-814': {'label': 0}, 'test-815': {'label': 0}, 'test-816': {'label': 0}, 'test-817': {'label': 0}, 'test-818': {'label': 0}, 'test-819': {'label': 0}, 'test-820': {'label': 0}, 'test-821': {'label': 0}, 'test-822': {'label': 0}, 'test-823': {'label': 0}, 'test-824': {'label': 0}, 'test-825': {'label': 0}, 'test-826': {'label': 1}, 'test-827': {'label': 0}, 'test-828': {'label': 0}, 'test-829': {'label': 0}, 'test-830': {'label': 0}, 'test-831': {'label': 1}, 'test-832': {'label': 0}, 'test-833': {'label': 1}, 'test-834': {'label': 0}, 'test-835': {'label': 0}, 'test-836': {'label': 0}, 'test-837': {'label': 0}, 'test-838': {'label': 0}, 'test-839': {'label': 1}, 'test-840': {'label': 1}, 'test-841': {'label': 0}, 'test-842': {'label': 0}, 'test-843': {'label': 0}, 'test-844': {'label': 0}, 'test-845': {'label': 0}, 'test-846': {'label': 0}, 'test-847': {'label': 0}, 'test-848': {'label': 0}, 'test-849': {'label': 0}, 'test-850': {'label': 0}, 'test-851': {'label': 0}, 'test-852': {'label': 0}, 'test-853': {'label': 0}, 'test-854': {'label': 0}, 'test-855': {'label': 0}, 'test-856': {'label': 0}, 'test-857': {'label': 0}, 'test-858': {'label': 0}, 'test-859': {'label': 0}, 'test-860': {'label': 0}, 'test-861': {'label': 0}, 'test-862': {'label': 0}, 'test-863': {'label': 0}, 'test-864': {'label': 0}, 'test-865': {'label': 0}, 'test-866': {'label': 0}, 'test-867': {'label': 0}, 'test-868': {'label': 0}, 'test-869': {'label': 0}, 'test-870': {'label': 0}, 'test-871': {'label': 0}, 'test-872': {'label': 0}, 'test-873': {'label': 0}, 'test-874': {'label': 1}, 'test-875': {'label': 0}, 'test-876': {'label': 0}, 'test-877': {'label': 0}, 'test-878': {'label': 0}, 'test-879': {'label': 0}, 'test-880': {'label': 0}, 'test-881': {'label': 0}, 'test-882': {'label': 0}, 'test-883': {'label': 0}, 'test-884': {'label': 0}, 'test-885': {'label': 1}, 'test-886': {'label': 0}, 'test-887': {'label': 0}, 'test-888': {'label': 0}, 'test-889': {'label': 0}, 'test-890': {'label': 1}, 'test-891': {'label': 0}, 'test-892': {'label': 0}, 'test-893': {'label': 0}, 'test-894': {'label': 0}, 'test-895': {'label': 0}, 'test-896': {'label': 1}, 'test-897': {'label': 0}, 'test-898': {'label': 0}, 'test-899': {'label': 0}, 'test-900': {'label': 0}, 'test-901': {'label': 0}, 'test-902': {'label': 0}, 'test-903': {'label': 0}, 'test-904': {'label': 1}, 'test-905': {'label': 1}, 'test-906': {'label': 0}, 'test-907': {'label': 0}, 'test-908': {'label': 0}, 'test-909': {'label': 0}, 'test-910': {'label': 0}, 'test-911': {'label': 0}, 'test-912': {'label': 0}, 'test-913': {'label': 1}, 'test-914': {'label': 0}, 'test-915': {'label': 0}, 'test-916': {'label': 0}, 'test-917': {'label': 0}, 'test-918': {'label': 0}, 'test-919': {'label': 0}, 'test-920': {'label': 0}, 'test-921': {'label': 0}, 'test-922': {'label': 0}, 'test-923': {'label': 0}, 'test-924': {'label': 0}, 'test-925': {'label': 0}, 'test-926': {'label': 0}, 'test-927': {'label': 0}, 'test-928': {'label': 0}, 'test-929': {'label': 0}, 'test-930': {'label': 0}, 'test-931': {'label': 0}, 'test-932': {'label': 1}, 'test-933': {'label': 1}, 'test-934': {'label': 0}, 'test-935': {'label': 0}, 'test-936': {'label': 0}, 'test-937': {'label': 0}, 'test-938': {'label': 0}, 'test-939': {'label': 0}, 'test-940': {'label': 0}, 'test-941': {'label': 0}, 'test-942': {'label': 0}, 'test-943': {'label': 0}, 'test-944': {'label': 0}, 'test-945': {'label': 0}, 'test-946': {'label': 0}, 'test-947': {'label': 0}, 'test-948': {'label': 0}, 'test-949': {'label': 0}, 'test-950': {'label': 0}, 'test-951': {'label': 0}, 'test-952': {'label': 0}, 'test-953': {'label': 0}, 'test-954': {'label': 0}, 'test-955': {'label': 0}, 'test-956': {'label': 0}, 'test-957': {'label': 0}, 'test-958': {'label': 0}, 'test-959': {'label': 0}, 'test-960': {'label': 0}, 'test-961': {'label': 0}, 'test-962': {'label': 0}, 'test-963': {'label': 1}, 'test-964': {'label': 0}, 'test-965': {'label': 0}, 'test-966': {'label': 0}, 'test-967': {'label': 0}, 'test-968': {'label': 0}, 'test-969': {'label': 0}, 'test-970': {'label': 0}, 'test-971': {'label': 0}, 'test-972': {'label': 0}, 'test-973': {'label': 0}, 'test-974': {'label': 0}, 'test-975': {'label': 0}, 'test-976': {'label': 0}, 'test-977': {'label': 0}, 'test-978': {'label': 0}, 'test-979': {'label': 1}, 'test-980': {'label': 0}, 'test-981': {'label': 0}, 'test-982': {'label': 0}, 'test-983': {'label': 0}, 'test-984': {'label': 0}, 'test-985': {'label': 0}, 'test-986': {'label': 0}, 'test-987': {'label': 0}, 'test-988': {'label': 0}, 'test-989': {'label': 0}, 'test-990': {'label': 0}, 'test-991': {'label': 0}, 'test-992': {'label': 0}, 'test-993': {'label': 1}, 'test-994': {'label': 0}, 'test-995': {'label': 0}, 'test-996': {'label': 0}, 'test-997': {'label': 0}, 'test-998': {'label': 1}, 'test-999': {'label': 0}, 'test-1000': {'label': 0}, 'test-1001': {'label': 1}, 'test-1002': {'label': 0}, 'test-1003': {'label': 0}, 'test-1004': {'label': 0}, 'test-1005': {'label': 0}, 'test-1006': {'label': 0}, 'test-1007': {'label': 0}, 'test-1008': {'label': 1}, 'test-1009': {'label': 0}, 'test-1010': {'label': 0}, 'test-1011': {'label': 0}, 'test-1012': {'label': 0}, 'test-1013': {'label': 1}, 'test-1014': {'label': 0}, 'test-1015': {'label': 0}, 'test-1016': {'label': 0}, 'test-1017': {'label': 0}, 'test-1018': {'label': 0}, 'test-1019': {'label': 0}, 'test-1020': {'label': 0}, 'test-1021': {'label': 0}, 'test-1022': {'label': 0}, 'test-1023': {'label': 0}, 'test-1024': {'label': 0}, 'test-1025': {'label': 0}, 'test-1026': {'label': 0}, 'test-1027': {'label': 0}, 'test-1028': {'label': 0}, 'test-1029': {'label': 0}, 'test-1030': {'label': 0}, 'test-1031': {'label': 1}, 'test-1032': {'label': 0}, 'test-1033': {'label': 0}, 'test-1034': {'label': 0}, 'test-1035': {'label': 0}, 'test-1036': {'label': 0}, 'test-1037': {'label': 0}, 'test-1038': {'label': 0}, 'test-1039': {'label': 0}, 'test-1040': {'label': 1}, 'test-1041': {'label': 0}, 'test-1042': {'label': 0}, 'test-1043': {'label': 0}, 'test-1044': {'label': 0}, 'test-1045': {'label': 0}, 'test-1046': {'label': 0}, 'test-1047': {'label': 0}, 'test-1048': {'label': 1}, 'test-1049': {'label': 0}, 'test-1050': {'label': 0}, 'test-1051': {'label': 0}, 'test-1052': {'label': 0}, 'test-1053': {'label': 0}, 'test-1054': {'label': 0}, 'test-1055': {'label': 0}, 'test-1056': {'label': 0}, 'test-1057': {'label': 0}, 'test-1058': {'label': 0}, 'test-1059': {'label': 0}, 'test-1060': {'label': 0}, 'test-1061': {'label': 0}, 'test-1062': {'label': 0}, 'test-1063': {'label': 0}, 'test-1064': {'label': 0}, 'test-1065': {'label': 0}, 'test-1066': {'label': 0}, 'test-1067': {'label': 0}, 'test-1068': {'label': 0}, 'test-1069': {'label': 0}, 'test-1070': {'label': 0}, 'test-1071': {'label': 0}, 'test-1072': {'label': 0}, 'test-1073': {'label': 0}, 'test-1074': {'label': 0}, 'test-1075': {'label': 0}, 'test-1076': {'label': 0}, 'test-1077': {'label': 0}, 'test-1078': {'label': 0}, 'test-1079': {'label': 0}, 'test-1080': {'label': 0}, 'test-1081': {'label': 0}, 'test-1082': {'label': 0}, 'test-1083': {'label': 0}, 'test-1084': {'label': 0}, 'test-1085': {'label': 0}, 'test-1086': {'label': 1}, 'test-1087': {'label': 0}, 'test-1088': {'label': 0}, 'test-1089': {'label': 0}, 'test-1090': {'label': 0}, 'test-1091': {'label': 0}, 'test-1092': {'label': 0}, 'test-1093': {'label': 0}, 'test-1094': {'label': 0}, 'test-1095': {'label': 0}, 'test-1096': {'label': 0}, 'test-1097': {'label': 0}, 'test-1098': {'label': 0}, 'test-1099': {'label': 0}, 'test-1100': {'label': 0}, 'test-1101': {'label': 0}, 'test-1102': {'label': 0}, 'test-1103': {'label': 0}, 'test-1104': {'label': 0}, 'test-1105': {'label': 0}, 'test-1106': {'label': 0}, 'test-1107': {'label': 1}, 'test-1108': {'label': 1}, 'test-1109': {'label': 1}, 'test-1110': {'label': 0}, 'test-1111': {'label': 0}, 'test-1112': {'label': 0}, 'test-1113': {'label': 0}, 'test-1114': {'label': 0}, 'test-1115': {'label': 0}, 'test-1116': {'label': 0}, 'test-1117': {'label': 0}, 'test-1118': {'label': 0}, 'test-1119': {'label': 0}, 'test-1120': {'label': 0}, 'test-1121': {'label': 0}, 'test-1122': {'label': 0}, 'test-1123': {'label': 0}, 'test-1124': {'label': 0}, 'test-1125': {'label': 0}, 'test-1126': {'label': 0}, 'test-1127': {'label': 0}, 'test-1128': {'label': 0}, 'test-1129': {'label': 0}, 'test-1130': {'label': 1}, 'test-1131': {'label': 0}, 'test-1132': {'label': 0}, 'test-1133': {'label': 0}, 'test-1134': {'label': 0}, 'test-1135': {'label': 0}, 'test-1136': {'label': 0}, 'test-1137': {'label': 0}, 'test-1138': {'label': 0}, 'test-1139': {'label': 0}, 'test-1140': {'label': 0}, 'test-1141': {'label': 1}, 'test-1142': {'label': 0}, 'test-1143': {'label': 0}, 'test-1144': {'label': 0}, 'test-1145': {'label': 0}, 'test-1146': {'label': 0}, 'test-1147': {'label': 0}, 'test-1148': {'label': 0}, 'test-1149': {'label': 1}, 'test-1150': {'label': 1}, 'test-1151': {'label': 0}, 'test-1152': {'label': 0}, 'test-1153': {'label': 1}, 'test-1154': {'label': 0}, 'test-1155': {'label': 1}, 'test-1156': {'label': 0}, 'test-1157': {'label': 0}, 'test-1158': {'label': 0}, 'test-1159': {'label': 0}, 'test-1160': {'label': 0}, 'test-1161': {'label': 0}, 'test-1162': {'label': 0}, 'test-1163': {'label': 0}, 'test-1164': {'label': 0}, 'test-1165': {'label': 0}, 'test-1166': {'label': 0}, 'test-1167': {'label': 0}, 'test-1168': {'label': 0}, 'test-1169': {'label': 0}, 'test-1170': {'label': 0}, 'test-1171': {'label': 0}, 'test-1172': {'label': 0}, 'test-1173': {'label': 0}, 'test-1174': {'label': 0}, 'test-1175': {'label': 0}, 'test-1176': {'label': 0}, 'test-1177': {'label': 0}, 'test-1178': {'label': 0}, 'test-1179': {'label': 0}, 'test-1180': {'label': 0}, 'test-1181': {'label': 0}, 'test-1182': {'label': 0}, 'test-1183': {'label': 0}, 'test-1184': {'label': 0}, 'test-1185': {'label': 0}, 'test-1186': {'label': 0}, 'test-1187': {'label': 1}, 'test-1188': {'label': 0}, 'test-1189': {'label': 0}, 'test-1190': {'label': 0}, 'test-1191': {'label': 0}, 'test-1192': {'label': 0}, 'test-1193': {'label': 0}, 'test-1194': {'label': 0}, 'test-1195': {'label': 0}, 'test-1196': {'label': 0}, 'test-1197': {'label': 0}, 'test-1198': {'label': 0}, 'test-1199': {'label': 0}, 'test-1200': {'label': 0}, 'test-1201': {'label': 0}, 'test-1202': {'label': 0}, 'test-1203': {'label': 0}, 'test-1204': {'label': 0}, 'test-1205': {'label': 0}, 'test-1206': {'label': 0}, 'test-1207': {'label': 0}, 'test-1208': {'label': 0}, 'test-1209': {'label': 0}, 'test-1210': {'label': 0}, 'test-1211': {'label': 0}, 'test-1212': {'label': 0}, 'test-1213': {'label': 1}, 'test-1214': {'label': 0}, 'test-1215': {'label': 0}, 'test-1216': {'label': 0}, 'test-1217': {'label': 0}, 'test-1218': {'label': 0}, 'test-1219': {'label': 0}, 'test-1220': {'label': 0}, 'test-1221': {'label': 0}, 'test-1222': {'label': 0}, 'test-1223': {'label': 0}, 'test-1224': {'label': 0}, 'test-1225': {'label': 0}, 'test-1226': {'label': 0}, 'test-1227': {'label': 0}, 'test-1228': {'label': 0}, 'test-1229': {'label': 0}, 'test-1230': {'label': 0}, 'test-1231': {'label': 0}, 'test-1232': {'label': 0}, 'test-1233': {'label': 0}, 'test-1234': {'label': 0}, 'test-1235': {'label': 0}, 'test-1236': {'label': 0}, 'test-1237': {'label': 0}, 'test-1238': {'label': 0}, 'test-1239': {'label': 0}, 'test-1240': {'label': 0}, 'test-1241': {'label': 0}, 'test-1242': {'label': 0}, 'test-1243': {'label': 0}, 'test-1244': {'label': 0}, 'test-1245': {'label': 0}, 'test-1246': {'label': 0}, 'test-1247': {'label': 0}, 'test-1248': {'label': 0}, 'test-1249': {'label': 0}, 'test-1250': {'label': 0}, 'test-1251': {'label': 0}, 'test-1252': {'label': 0}, 'test-1253': {'label': 0}, 'test-1254': {'label': 0}, 'test-1255': {'label': 0}, 'test-1256': {'label': 0}, 'test-1257': {'label': 0}, 'test-1258': {'label': 0}, 'test-1259': {'label': 0}, 'test-1260': {'label': 0}, 'test-1261': {'label': 0}, 'test-1262': {'label': 0}, 'test-1263': {'label': 0}, 'test-1264': {'label': 0}, 'test-1265': {'label': 0}, 'test-1266': {'label': 0}, 'test-1267': {'label': 0}, 'test-1268': {'label': 0}, 'test-1269': {'label': 0}, 'test-1270': {'label': 0}, 'test-1271': {'label': 0}, 'test-1272': {'label': 0}, 'test-1273': {'label': 0}, 'test-1274': {'label': 0}, 'test-1275': {'label': 1}, 'test-1276': {'label': 0}, 'test-1277': {'label': 0}, 'test-1278': {'label': 0}, 'test-1279': {'label': 0}, 'test-1280': {'label': 0}, 'test-1281': {'label': 0}, 'test-1282': {'label': 0}, 'test-1283': {'label': 0}, 'test-1284': {'label': 0}, 'test-1285': {'label': 1}, 'test-1286': {'label': 0}, 'test-1287': {'label': 0}, 'test-1288': {'label': 0}, 'test-1289': {'label': 0}, 'test-1290': {'label': 1}, 'test-1291': {'label': 0}, 'test-1292': {'label': 0}, 'test-1293': {'label': 1}, 'test-1294': {'label': 1}, 'test-1295': {'label': 0}, 'test-1296': {'label': 0}, 'test-1297': {'label': 0}, 'test-1298': {'label': 0}, 'test-1299': {'label': 0}, 'test-1300': {'label': 0}, 'test-1301': {'label': 0}, 'test-1302': {'label': 0}, 'test-1303': {'label': 0}, 'test-1304': {'label': 0}, 'test-1305': {'label': 0}, 'test-1306': {'label': 0}, 'test-1307': {'label': 0}, 'test-1308': {'label': 0}, 'test-1309': {'label': 0}, 'test-1310': {'label': 1}, 'test-1311': {'label': 0}, 'test-1312': {'label': 0}, 'test-1313': {'label': 0}, 'test-1314': {'label': 0}, 'test-1315': {'label': 0}, 'test-1316': {'label': 0}, 'test-1317': {'label': 0}, 'test-1318': {'label': 0}, 'test-1319': {'label': 0}, 'test-1320': {'label': 0}, 'test-1321': {'label': 0}, 'test-1322': {'label': 1}, 'test-1323': {'label': 0}, 'test-1324': {'label': 0}, 'test-1325': {'label': 0}, 'test-1326': {'label': 0}, 'test-1327': {'label': 0}, 'test-1328': {'label': 0}, 'test-1329': {'label': 0}, 'test-1330': {'label': 0}, 'test-1331': {'label': 0}, 'test-1332': {'label': 0}, 'test-1333': {'label': 0}, 'test-1334': {'label': 0}, 'test-1335': {'label': 0}, 'test-1336': {'label': 0}, 'test-1337': {'label': 0}, 'test-1338': {'label': 0}, 'test-1339': {'label': 0}, 'test-1340': {'label': 0}, 'test-1341': {'label': 0}, 'test-1342': {'label': 0}, 'test-1343': {'label': 0}, 'test-1344': {'label': 0}, 'test-1345': {'label': 0}, 'test-1346': {'label': 0}, 'test-1347': {'label': 0}, 'test-1348': {'label': 0}, 'test-1349': {'label': 0}, 'test-1350': {'label': 1}, 'test-1351': {'label': 0}, 'test-1352': {'label': 0}, 'test-1353': {'label': 0}, 'test-1354': {'label': 1}, 'test-1355': {'label': 0}, 'test-1356': {'label': 0}, 'test-1357': {'label': 1}, 'test-1358': {'label': 0}, 'test-1359': {'label': 0}, 'test-1360': {'label': 0}, 'test-1361': {'label': 0}, 'test-1362': {'label': 0}, 'test-1363': {'label': 0}, 'test-1364': {'label': 0}, 'test-1365': {'label': 0}, 'test-1366': {'label': 0}, 'test-1367': {'label': 0}, 'test-1368': {'label': 0}, 'test-1369': {'label': 0}, 'test-1370': {'label': 0}, 'test-1371': {'label': 0}, 'test-1372': {'label': 0}, 'test-1373': {'label': 0}, 'test-1374': {'label': 0}, 'test-1375': {'label': 0}, 'test-1376': {'label': 0}, 'test-1377': {'label': 0}, 'test-1378': {'label': 0}, 'test-1379': {'label': 0}, 'test-1380': {'label': 1}, 'test-1381': {'label': 0}, 'test-1382': {'label': 0}, 'test-1383': {'label': 0}, 'test-1384': {'label': 0}, 'test-1385': {'label': 0}, 'test-1386': {'label': 0}, 'test-1387': {'label': 0}, 'test-1388': {'label': 0}, 'test-1389': {'label': 0}, 'test-1390': {'label': 0}, 'test-1391': {'label': 0}, 'test-1392': {'label': 0}, 'test-1393': {'label': 0}, 'test-1394': {'label': 0}, 'test-1395': {'label': 0}, 'test-1396': {'label': 0}, 'test-1397': {'label': 0}, 'test-1398': {'label': 0}, 'test-1399': {'label': 0}, 'test-1400': {'label': 0}, 'test-1401': {'label': 0}, 'test-1402': {'label': 0}, 'test-1403': {'label': 0}, 'test-1404': {'label': 1}, 'test-1405': {'label': 0}, 'test-1406': {'label': 0}, 'test-1407': {'label': 0}, 'test-1408': {'label': 1}, 'test-1409': {'label': 0}}\n"
     ]
    }
   ],
   "source": [
    "# Test\n",
    "p2 = model.predict(pad_sequences(test_sequences, maxlen=MAX_SEQUENCE_LENGTH))\n",
    "\n",
    "test_dict = {}\n",
    "true_positive = 0\n",
    "false_positive = 0\n",
    "false_negative = 0\n",
    "for i in range(len(p)):\n",
    "    text = \"test-\" + str(i)\n",
    "    if (p[i][0] * filter_[i]) > 0.5:\n",
    "        test_dict[text] = {\"label\": 1}\n",
    "    else:\n",
    "        test_dict[text] = {\"label\": 0}\n",
    "\n",
    "print(test_dict)"
   ]
  },
  {
   "cell_type": "code",
   "execution_count": 0,
   "metadata": {
    "colab": {
     "base_uri": "https://localhost:8080/",
     "height": 70
    },
    "colab_type": "code",
    "id": "rw4n47p9gy6s",
    "outputId": "f2366214-bf82-4ae9-b4e1-b79998c1339a"
   },
   "outputs": [
    {
     "name": "stderr",
     "output_type": "stream",
     "text": [
      "/usr/local/lib/python3.6/dist-packages/tensorflow/python/framework/indexed_slices.py:434: UserWarning: Converting sparse IndexedSlices to a dense Tensor of unknown shape. This may consume a large amount of memory.\n",
      "  \"Converting sparse IndexedSlices to a dense Tensor of unknown shape. \"\n"
     ]
    }
   ],
   "source": [
    "import pickle\n",
    "with open('./gdrive/My Drive/Colab/tokenizer.pickle', 'rb') as handle:\n",
    "    tokenizer = pickle.load(handle)\n",
    "\n",
    "model2 = load_model(\"./gdrive/My Drive/Colab/final-05-0.87.h5\", custom_objects={'SeqSelfAttention':SeqSelfAttention})\n",
    "model2.compile(\n",
    "  loss='binary_crossentropy',\n",
    "  optimizer=Adam(),\n",
    "  metrics=['accuracy']\n",
    ")\n"
   ]
  },
  {
   "cell_type": "code",
   "execution_count": 0,
   "metadata": {
    "colab": {},
    "colab_type": "code",
    "id": "EaRi68GAu5mr"
   },
   "outputs": [],
   "source": [
    "import json\n",
    "\n",
    "with open('test-output.json', 'w') as fp:\n",
    "    json.dump(test_dict, fp)"
   ]
  },
  {
   "cell_type": "code",
   "execution_count": 0,
   "metadata": {
    "colab": {},
    "colab_type": "code",
    "id": "70L8o_Hvu727"
   },
   "outputs": [],
   "source": [
    "from google.colab import files\n",
    "\n",
    "files.download('test-output.json')"
   ]
  }
 ],
 "metadata": {
  "accelerator": "GPU",
  "colab": {
   "collapsed_sections": [],
   "name": "BestNLP_final.ipynb",
   "provenance": []
  },
  "kernelspec": {
   "display_name": "Python 3",
   "language": "python",
   "name": "python3"
  },
  "language_info": {
   "codemirror_mode": {
    "name": "ipython",
    "version": 3
   },
   "file_extension": ".py",
   "mimetype": "text/x-python",
   "name": "python",
   "nbconvert_exporter": "python",
   "pygments_lexer": "ipython3",
   "version": "3.7.6"
  }
 },
 "nbformat": 4,
 "nbformat_minor": 1
}
